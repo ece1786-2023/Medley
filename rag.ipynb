{
  "cells": [
    {
      "cell_type": "code",
      "execution_count": null,
      "metadata": {
        "id": "KK8ge14P7Is2"
      },
      "outputs": [],
      "source": [
        "%pip install langchain openai chromadb tiktoken\n",
        "\n",
        "import os\n",
        "from langchain.document_loaders.csv_loader import CSVLoader\n",
        "from langchain.text_splitter import CharacterTextSplitter\n",
        "from langchain.embeddings.openai import OpenAIEmbeddings\n",
        "from langchain.vectorstores import Chroma\n",
        "\n",
        "api_key = ''\n",
        "os.environ[\"OPENAI_API_KEY\"] = api_key"
      ]
    },
    {
      "cell_type": "code",
      "execution_count": 1,
      "metadata": {
        "id": "xq_s3O2Jmr3h"
      },
      "outputs": [],
      "source": [
        "# function that initializes the vector database\n",
        "def initialize_db(file_path, chunk_size=1000, chunk_overlap=0, persist_directory=\"./chroma_db\"):\n",
        "    # document loader\n",
        "    loader = CSVLoader(file_path=file_path)\n",
        "    data = loader.load()\n",
        "\n",
        "    # document transform\n",
        "    text_splitter = CharacterTextSplitter(chunk_size=chunk_size, chunk_overlap=chunk_overlap)\n",
        "    docs = text_splitter.split_documents(data)\n",
        "\n",
        "    # document embedding\n",
        "    embeddings = OpenAIEmbeddings()\n",
        "\n",
        "    # vector database\n",
        "    db = Chroma.from_documents(docs, embeddings, persist_directory=persist_directory)\n",
        "\n",
        "    return db"
      ]
    },
    {
      "cell_type": "code",
      "execution_count": null,
      "metadata": {
        "id": "VkoX0AConf7e"
      },
      "outputs": [],
      "source": [
        "# function that retrieves relevant documents based on the query from the database\n",
        "def retrieve(query, db, k=20):\n",
        "    # retriever\n",
        "    retriever = db.as_retriever(search_type=\"similarity\", search_kwargs={\"k\": k})\n",
        "\n",
        "    # retrieve documents\n",
        "    retrieved_docs = retriever.get_relevant_documents(query)\n",
        "    \n",
        "    retrieved_str = '\\n'.join([doc.page_content for doc in retrieved_docs])\n",
        "    return retrieved_str  # returns a string"
      ]
    }
  ],
  "metadata": {
    "colab": {
      "provenance": []
    },
    "kernelspec": {
      "display_name": "Python 3",
      "name": "python3"
    },
    "language_info": {
      "name": "python"
    }
  },
  "nbformat": 4,
  "nbformat_minor": 0
}
