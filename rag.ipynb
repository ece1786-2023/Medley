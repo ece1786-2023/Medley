{
  "cells": [
    {
      "cell_type": "code",
      "execution_count": null,
      "metadata": {
        "id": "KK8ge14P7Is2"
      },
      "outputs": [],
      "source": [
        "%pip install langchain openai chromadb tiktoken\n",
        "\n",
        "import os\n",
        "from langchain.document_loaders.csv_loader import CSVLoader\n",
        "from langchain.text_splitter import CharacterTextSplitter\n",
        "from langchain.embeddings.openai import OpenAIEmbeddings\n",
        "from langchain.vectorstores import Chroma\n",
        "\n",
        "api_key = ''\n",
        "os.environ[\"OPENAI_API_KEY\"] = api_key"
      ]
    },
    {
      "cell_type": "code",
      "execution_count": 3,
      "metadata": {
        "id": "dDboVIZ1jBxV"
      },
      "outputs": [],
      "source": [
        "# document loader\n",
        "loader = CSVLoader(file_path='key_mood.csv')\n",
        "data = loader.load()"
      ]
    },
    {
      "cell_type": "code",
      "execution_count": 4,
      "metadata": {
        "id": "6ZGxt2d0jLJc"
      },
      "outputs": [],
      "source": [
        "# document transform\n",
        "text_splitter = CharacterTextSplitter(chunk_size=1000, chunk_overlap=0)\n",
        "docs = text_splitter.split_documents(data)"
      ]
    },
    {
      "cell_type": "code",
      "execution_count": 12,
      "metadata": {
        "colab": {
          "base_uri": "https://localhost:8080/"
        },
        "id": "OApravp8f0p3",
        "outputId": "9e7471f7-2450-43bc-fe3f-e29a0c34d9fc"
      },
      "outputs": [
        {
          "name": "stdout",
          "output_type": "stream",
          "text": [
            "2769\n",
            "page_content=\"\\ufeffName: Ahe's My Kind Of Girl\\nKeywords: love, happiness, relationship, appreciation, devotion\\nMood: Romantic, Joyful, Grateful\" metadata={'source': 'key_mood.csv', 'row': 0}\n",
            "﻿Name: Ahe's My Kind Of Girl\n",
            "Keywords: love, happiness, relationship, appreciation, devotion\n",
            "Mood: Romantic, Joyful, Grateful\n"
          ]
        }
      ],
      "source": [
        "print(len(docs))\n",
        "print(docs[0])\n",
        "print(docs[0].page_content)"
      ]
    },
    {
      "cell_type": "code",
      "execution_count": 5,
      "metadata": {
        "id": "-KhW0fuJjv4Z"
      },
      "outputs": [],
      "source": [
        "# document embedding\n",
        "embeddings = OpenAIEmbeddings()\n",
        "\n",
        "# vector database\n",
        "db = Chroma.from_documents(docs, embeddings, persist_directory=\"./chroma_db\")"
      ]
    },
    {
      "cell_type": "code",
      "execution_count": 22,
      "metadata": {
        "colab": {
          "base_uri": "https://localhost:8080/"
        },
        "id": "7v7SqO4gSVv2",
        "outputId": "53157219-2194-4da4-8076-3acecf12b4f5"
      },
      "outputs": [
        {
          "name": "stdout",
          "output_type": "stream",
          "text": [
            "20\n",
            "﻿Name: Boombox\n",
            "Keywords: Nostalgia, Music, Memories, Hip-hop, Culture\n",
            "Mood: Nostalgic, Energetic, Reflective\n"
          ]
        }
      ],
      "source": [
        "# retriever\n",
        "retriever = db.as_retriever(search_type=\"similarity\", search_kwargs={\"k\": 20})\n",
        "\n",
        "input_text = \"\"\"\n",
        "playlists: \"Throwbacks\"\n",
        "tracks:\n",
        "1. artist_name: \"Missy Elliott\", track_name: \"Lose Control (feat. Ciara & Fat Man Scoop)\"\n",
        "2. artist_name: \"Britney Spears\", track_name: \"Toxic\"\n",
        "3. artist_name: \"Beyonc\\u00e9\", track_name: \"Crazy In Love\"\n",
        "4. artist_name: \"Justin Timberlake\", track_name: \"Rock Your Body\"\n",
        "5. artist_name: \"Shaggy\", track_name: \"It Wasn't Me\"\n",
        "6. artist_name: \"Usher\", track_name: \"Yeah!\"\n",
        "7. artist_name: \"Usher\", track_name: \"My Boo\"\n",
        "8. artist_name: \"The Pussycat Dolls\", track_name: \"Buttons\"\n",
        "9. artist_name: \"Destiny's Child\", track_name: \"Say My Name\"\n",
        "10. artist_name: \"Nelly Furtado\", track_name: “Promiscuous\"\n",
        "11. artist_name: \"Jesse McCartney\", track_name: \"Right Where You Want Me - Radio Edit Version\"\n",
        "12. artist_name: \"Jesse McCartney\", track_name: \"Beautiful Soul\"\n",
        "13. artist_name: \"Jesse McCartney\", track_name: ”Leavin'\"\n",
        "14. artist_name: \"Cassie\", track_name: \"Me & U\"\n",
        "15. artist_name: \"Omarion\", track_name: \"Ice Box\"\n",
        "16. artist_name: \"Avril Lavigne\", track_name: \"Sk8er Boi\"\n",
        "17. artist_name: \"Destiny's Child\", track_name: \"Jumpin', Jumpin'\"\n",
        "18. artist_name: \"Sheryl Crow\", track_name: \"Soak Up The Sun\"\n",
        "19. artist_name: \"The Black Eyed Peas\", track_name: \"Where Is The Love?\"\n",
        "20. artist_name: \"Bowling For Soup\", track_name: \"Stacy's Mom\"\n",
        "21. artist_name: \"Chris Brown\", track_name: \"Yo (Excuse Me Miss)\"\n",
        "22. artist_name: \"Jonas Brothers\", track_name: \"Year 3000\"\n",
        "23. artist_name: \"Lil Mama\", track_name: \"Lip Gloss\"\n",
        "24. artist_name: \"Jason Derulo\", track_name: \"Whatcha Say\"\n",
        "music genres preferences:  1. Pop 2. R&B 3. Hip-Hop\n",
        "artists preferences: 1. Jesse McCartney 2. Usher 3. Destiny's Child\n",
        "language preferences: English\n",
        "the playlist is used for: nostalgic listening, social gatherings\n",
        "the mood in the playlist is: energetic, happy, nostalgic\n",
        "\"\"\"\n",
        "\n",
        "retrieved_docs = retriever.get_relevant_documents(input_text)\n",
        "print(len(retrieved_docs))\n",
        "relevant = retrieved_docs[0].page_content\n",
        "print(relevant)"
      ]
    },
    {
      "cell_type": "code",
      "execution_count": 23,
      "metadata": {
        "colab": {
          "base_uri": "https://localhost:8080/"
        },
        "id": "H1xTaKTtiqR9",
        "outputId": "ba035443-4ea4-4d8e-c72d-aabccf33e1c4"
      },
      "outputs": [
        {
          "name": "stdout",
          "output_type": "stream",
          "text": [
            "Name: Boombox\n",
            "Keywords: Nostalgia, Music, Memories, Hip-hop, Culture\n",
            "Mood: Nostalgic, Energetic, Reflective\n",
            "\n",
            "﻿Name: Jukebox In My Mind\n",
            "Keywords: Memories, love, pain, nostalgia, longing\n",
            "Mood: Nostalgic, melancholic, reflective\n",
            "\n",
            "﻿Name: The Punk Show\n",
            "Keywords: Punk, love, rock show, summer, girl\n",
            "Mood: Nostalgic, energetic, rebellious\n",
            "\n",
            "﻿Name: Scrapbook\n",
            "Keywords: Memories, Music, Travel, Friendship, Adventure\n",
            "Mood: Nostalgic, Reflective, Joyful\n",
            "\n",
            "﻿Name: Mega Mix Radio Version\n",
            "Keywords: Babylon, captivity, sunny, baker, Rasputin, Russia\n",
            "Mood: Varied, nostalgic, energetic\n",
            "\n",
            "﻿Name: Mega Mix\n",
            "Keywords: Loneliness, Confession, Crazy, Slave, Toxic\n",
            "Mood: Reflective, Energetic, Seductive\n",
            "\n",
            "﻿Name: Punky Reggae Party\n",
            "Keywords: Punky, reggae, party, new wave, joyful, reality\n",
            "Mood: Celebration, rebellion, unity\n",
            "\n",
            "﻿Name: Hits Medley '76\n",
            "Keywords: Sing, love, ticket to ride, yesterday, winner takes it all\n",
            "Mood: Nostalgic, romantic, reflective\n",
            "\n",
            "﻿Name: Street Player\n",
            "Keywords: Street life, music, resilience, city, lessons\n",
            "Mood: Reflective, determined, nostalgic\n",
            "\n",
            "﻿Name: Twisted Wheel\n",
            "Keywords: Youth, music, love, nostalgia, fashion, dance\n",
            "Mood: Energetic, nostalgic, vibrant\n",
            "\n",
            "﻿Name: Various\n",
            "Keywords: Rock'n'Roll, fame, longing, love, dancing\n",
            "Mood: Energetic, nostalgic, hopeful\n",
            "\n",
            "﻿Name: Tearin' It Up\n",
            "Keywords: Love, Desire, Passion, Longing, Persistence\n",
            "Mood: Romantic, Energetic, Determined\n",
            "\n",
            "﻿Name: Train To Skaville\n",
            "Keywords: Skaville, music, dancing, Friday night, feeling alright\n",
            "Mood: Upbeat, lively, carefree\n",
            "\n",
            "﻿Name: Song 2\n",
            "Keywords: head checked, heavy-metal, pins, needles, pleased to meet you\n",
            "Mood: Energetic, rebellious, confused\n",
            "\n",
            "﻿Name: Carousel Man\n",
            "Keywords: carousel, man, life, dreams, music\n",
            "Mood: Nostalgic, bittersweet, reflective\n",
            "\n",
            "﻿Name: Add Some Music\n",
            "Keywords: Music, soul, companionship, joy, everyday life\n",
            "Mood: Uplifting, joyful, celebratory\n",
            "\n",
            "﻿Name: Garageland\n",
            "Keywords: garage band, dreams, music, nostalgia, youth\n",
            "Mood: Nostalgic, hopeful, rebellious\n",
            "\n",
            "﻿Name: California Man\n",
            "Keywords: party, dance, California, rock n' roll, shiver\n",
            "Mood: Energetic, fun, carefree\n",
            "\n",
            "﻿Name: Have A Good Time\n",
            "Keywords: party, music, fun, funky, rhythm\n",
            "Mood: Energetic, celebratory, lively\n",
            "\n",
            "﻿Name: How I Roll\n",
            "Keywords: party, fun, dancing, energy, freedom\n",
            "Mood: Energetic, Carefree, Exciting\n",
            "\n"
          ]
        }
      ],
      "source": [
        "for i in range(20):\n",
        "  print(retrieved_docs[i].page_content + \"\\n\")"
      ]
    }
  ],
  "metadata": {
    "colab": {
      "provenance": []
    },
    "kernelspec": {
      "display_name": "Python 3",
      "name": "python3"
    },
    "language_info": {
      "name": "python"
    }
  },
  "nbformat": 4,
  "nbformat_minor": 0
}
