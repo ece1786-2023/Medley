{
  "nbformat": 4,
  "nbformat_minor": 0,
  "metadata": {
    "colab": {
      "provenance": []
    },
    "kernelspec": {
      "name": "python3",
      "display_name": "Python 3"
    },
    "language_info": {
      "name": "python"
    }
  },
  "cells": [
    {
      "cell_type": "code",
      "execution_count": 10,
      "metadata": {
        "id": "1K2JTyUn1enh"
      },
      "outputs": [],
      "source": [
        "import json\n",
        "\n",
        "# load dataset\n",
        "with open('processed_0-999.json', 'r') as input_file:\n",
        "    data = json.load(input_file)\n",
        "\n",
        "# retrieve only necessary data\n",
        "playlists = {\n",
        "    \"playlists\": [\n",
        "        {\n",
        "            \"playlist_name\": playlist[\"name\"],\n",
        "            \"tracks\": [\n",
        "                {\n",
        "                    \"track_name\": track[\"track_name\"],\n",
        "                    \"artist_name\": track[\"artist_name\"]\n",
        "                } for track in playlist[\"tracks\"]\n",
        "            ]\n",
        "        } for playlist in data[\"playlists\"]\n",
        "    ]\n",
        "}\n",
        "\n",
        "# save cleaned data\n",
        "with open('cleaned_playlists.json', 'w') as output_file:\n",
        "    json.dump(playlists, output_file, indent=4)"
      ]
    }
  ]
}